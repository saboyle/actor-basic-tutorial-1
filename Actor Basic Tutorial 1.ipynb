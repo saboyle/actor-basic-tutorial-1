{
 "cells": [
  {
   "cell_type": "markdown",
   "metadata": {
    "slideshow": {
     "slide_type": "slide"
    }
   },
   "source": [
    "# Actors ... What they are, what they can do and why are they relevant\n",
    "\n",
    "## Overview\n",
    "\n",
    "* I'll cover the general nature of the problems they were designed for\n",
    "* Give a quick outline of what they are\n",
    "* Provide some further examples and references:\n",
    " "
   ]
  },
  {
   "cell_type": "markdown",
   "metadata": {
    "slideshow": {
     "slide_type": "slide"
    }
   },
   "source": [
    "## The law makers - Amdahl and Moore\n",
    "\n",
    "A couple of big computer theories come into play.  \n",
    "\n",
    "1. Moore's Law(s) - improvements in computing power\n",
    "\n",
    "2. Amdahl's Law - constraints re parallelisation gains.\n",
    "\n",
    "_Refs_:\n",
    "\n",
    "* (https://www.pcworld.com/article/2042256/scientist-out-to-break-amdahls-law.html)\n",
    "\n",
    "### Moore's First Law\n",
    "\n",
    "> Moore's law is the observation that the number of transistors in a dense integrated circuit doubles approximately every two years. \n",
    "\n",
    "![](http://www.extremetech.com/wp-content/uploads/2015/04/MooresLaw2.png)\n",
    "\n",
    "Ref: http://www.extremetech.com/wp-content/uploads/2015/04/MooresLaw2.png\n",
    "\n",
    "### Moore's Second Law\n",
    "\n",
    "> As the cost of computer power to the consumer falls, the cost for producers to fulfill Moore's law follows an opposite trend: R&D, manufacturing, and test costs have increased steadily with each new generation of chips. Rising manufacturing costs are an important consideration for the sustaining of Moore's law.[39] This had led to the formulation of Moore's second law, also called Rock's law, which is that the capital cost of a semiconductor fab also increases exponentially over time.\n",
    "\n",
    "Ref: https://en.wikipedia.org/wiki/Moore%27s_law\n",
    "\n",
    "Moore's Law and competing forces both in Physics (law 1) and Economics (law 2) imply better concurrency models will offer the most strategic route to improved performance.\n",
    "\n",
    "### Amdahl's law\n",
    "\n",
    "> Evolution according to Amdahl's law of the theoretical speedup in latency of the execution of a program in function of the number of processors executing it, for different values of p. The speedup is limited by the serial part of the program. For example, ** if 95% of the program can be parallelized, the theoretical maximum speedup using parallel computing would be 20 times **.\n",
    "\n",
    "Ref: https://en.wikipedia.org/wiki/Amdahl%27s_law\n",
    "\n",
    "This notebook provides insight into why more efficient concurrency models are relevant:\n",
    "\n",
    "1. They enable us to do more work with more resources (i.e. **improved scalability**).\n",
    "2. They enable us to achieve the same with less resources (i.e. **improved efficiency**).\n",
    "3. They enable us to reduce latencies (i.e. **improved performance**).\n",
    "\n",
    "Understanding the degree to which a problem can be parallelised and the pipeline bottlenecks is the key.\n",
    "\n",
    "Armdahl's law: \n",
    "\n",
    "$S_\\text{latency}(s) = \\frac 1 {(1 - p) + \\frac p s}$\n",
    "\n",
    "The following is an interactive simulation showing how the potential gains of increasing computation resource is directly dependent upon the degree of theoretical parallelization of the solution architecture.\n",
    "\n",
    "<HR>"
   ]
  },
  {
   "cell_type": "code",
   "execution_count": 8,
   "metadata": {},
   "outputs": [
    {
     "data": {
      "application/vnd.jupyter.widget-view+json": {
       "model_id": "436307350df74e1da40bf989a0020850",
       "version_major": 2,
       "version_minor": 0
      },
      "text/plain": [
       "VBox(children=(HTML(value=\"<b>Armdahl's Law</b>\"), IntSlider(value=256, continuous_update=False, description='…"
      ]
     },
     "metadata": {},
     "output_type": "display_data"
    }
   ],
   "source": [
    "%matplotlib inline\n",
    "import matplotlib.pyplot as plt\n",
    "import pandas as pd\n",
    "plt.style.use('ggplot')\n",
    "\n",
    "from ipywidgets import interact, interactive, fixed, interact_manual\n",
    "import ipywidgets as widgets\n",
    "from IPython.display import clear_output\n",
    "from IPython.display import display\n",
    "from pylab import rcParams\n",
    "rcParams['figure.figsize'] = 15, 8\n",
    "\n",
    "def armdahl(p, proc_count):\n",
    "    return [1 / ((1-p) + p / float(n)) for n in range(1, proc_count + 1)]\n",
    "\n",
    "wdg_h = widgets.HTML(\"<b>Armdahl's Law</b>\")\n",
    "\n",
    "wdg_p = widgets.FloatSlider(\n",
    "    value=1,\n",
    "    min=0,\n",
    "    max=1.0,\n",
    "    step=0.01,\n",
    "    description='p:',\n",
    "    disabled=False,\n",
    "    continuous_update=False,\n",
    "    orientation='horizontal',\n",
    "    readout=True,\n",
    "    readout_format='.2f',\n",
    ")\n",
    "\n",
    "wdg_i = widgets.IntSlider(\n",
    "    value=256,\n",
    "    min=1,\n",
    "    max=256,\n",
    "    step=1,\n",
    "    description='Proc Count:',\n",
    "    disabled=False,\n",
    "    continuous_update=False,\n",
    "    orientation='horizontal',\n",
    "    readout=True\n",
    ")\n",
    "\n",
    "out = widgets.Output()\n",
    "\n",
    "def handle_slider_change(change):\n",
    "    global df\n",
    "    df = pd.Series(armdahl(wdg_p.value, wdg_i.value))\n",
    "    ax = df.plot(title=\"Armdahl's Law\", )\n",
    "    ax.set_xlabel(\"Available Processes / Nodes\")\n",
    "    ax.set_ylabel(\"Speedup\")\n",
    "    # ax2 = df.diff().plot()\n",
    "    \n",
    "    with out:\n",
    "        display(plt.show())\n",
    "        # display(df.to_frame().head())\n",
    "        clear_output(wait=True)\n",
    "\n",
    "wdg_p.observe(handle_slider_change, names='value')\n",
    "wdg_i.observe(handle_slider_change, names='value')\n",
    "\n",
    "items = [wdg_h, wdg_i, wdg_p, out]\n",
    "display(widgets.VBox(items))"
   ]
  },
  {
   "cell_type": "markdown",
   "metadata": {},
   "source": [
    "Depressingly the interactive model shows that unless software is designed specifically with concurrency in mind the additional performance obtained by adding additional resources to a problem becomes negligable surprisingly quickly with rapidly decreasing marginal returns.\n",
    "\n",
    "The visualization helps intuition regarding when it may be worth adding more boxes and when this may be a waste of money with little/no tangible return.\n",
    "\n",
    "In addition the costs associated with infrastructure (initial and ongoing) should be seriously considered."
   ]
  },
  {
   "cell_type": "markdown",
   "metadata": {
    "slideshow": {
     "slide_type": "slide"
    }
   },
   "source": [
    "## Concurrency / Complexity Continuum\n",
    "\n",
    "Before considering actors some appreciation of where they sit in the bigger picture is needed. One abstraction is to consider their placement on a complexity continuum ranging from the most simple to the most complex. "
   ]
  },
  {
   "cell_type": "code",
   "execution_count": 19,
   "metadata": {
    "slideshow": {
     "slide_type": "fragment"
    }
   },
   "outputs": [
    {
     "data": {
      "image/svg+xml": [
       "<?xml version=\"1.0\" encoding=\"UTF-8\" standalone=\"no\"?>\n",
       "<!DOCTYPE svg PUBLIC \"-//W3C//DTD SVG 1.1//EN\"\n",
       " \"http://www.w3.org/Graphics/SVG/1.1/DTD/svg11.dtd\">\n",
       "<!-- Generated by graphviz version 2.40.1 (20161225.0304)\n",
       " -->\n",
       "<!-- Title: Complexity Pages: 1 -->\n",
       "<svg width=\"488pt\" height=\"44pt\"\n",
       " viewBox=\"0.00 0.00 487.77 44.00\" xmlns=\"http://www.w3.org/2000/svg\" xmlns:xlink=\"http://www.w3.org/1999/xlink\">\n",
       "<g id=\"graph0\" class=\"graph\" transform=\"scale(1 1) rotate(0) translate(4 40)\">\n",
       "<title>Complexity</title>\n",
       "<polygon fill=\"#ffffff\" stroke=\"transparent\" points=\"-4,4 -4,-40 483.767,-40 483.767,4 -4,4\"/>\n",
       "<!-- Sequential -->\n",
       "<g id=\"node1\" class=\"node\">\n",
       "<title>Sequential</title>\n",
       "<ellipse fill=\"none\" stroke=\"#000000\" cx=\"48.0957\" cy=\"-18\" rx=\"48.1917\" ry=\"18\"/>\n",
       "<text text-anchor=\"middle\" x=\"48.0957\" y=\"-14.3\" font-family=\"Times,serif\" font-size=\"14.00\" fill=\"#000000\">Sequential</text>\n",
       "</g>\n",
       "<!-- Concurrent -->\n",
       "<g id=\"node2\" class=\"node\">\n",
       "<title>Concurrent</title>\n",
       "<ellipse fill=\"none\" stroke=\"#000000\" cx=\"182.237\" cy=\"-18\" rx=\"50.0912\" ry=\"18\"/>\n",
       "<text text-anchor=\"middle\" x=\"182.237\" y=\"-14.3\" font-family=\"Times,serif\" font-size=\"14.00\" fill=\"#000000\">Concurrent</text>\n",
       "</g>\n",
       "<!-- Sequential&#45;&gt;Concurrent -->\n",
       "<g id=\"edge1\" class=\"edge\">\n",
       "<title>Sequential&#45;&gt;Concurrent</title>\n",
       "<path fill=\"none\" stroke=\"#000000\" d=\"M96.5238,-18C104.7401,-18 113.3618,-18 121.8399,-18\"/>\n",
       "<polygon fill=\"#000000\" stroke=\"#000000\" points=\"122.0732,-21.5001 132.0731,-18 122.0731,-14.5001 122.0732,-21.5001\"/>\n",
       "</g>\n",
       "<!-- Parallel -->\n",
       "<g id=\"node3\" class=\"node\">\n",
       "<title>Parallel</title>\n",
       "<ellipse fill=\"none\" stroke=\"#000000\" cx=\"305.9792\" cy=\"-18\" rx=\"37.8943\" ry=\"18\"/>\n",
       "<text text-anchor=\"middle\" x=\"305.9792\" y=\"-14.3\" font-family=\"Times,serif\" font-size=\"14.00\" fill=\"#000000\">Parallel</text>\n",
       "</g>\n",
       "<!-- Concurrent&#45;&gt;Parallel -->\n",
       "<g id=\"edge2\" class=\"edge\">\n",
       "<title>Concurrent&#45;&gt;Parallel</title>\n",
       "<path fill=\"none\" stroke=\"#000000\" d=\"M232.5677,-18C241.0352,-18 249.8016,-18 258.2019,-18\"/>\n",
       "<polygon fill=\"#000000\" stroke=\"#000000\" points=\"258.2223,-21.5001 268.2222,-18 258.2222,-14.5001 258.2223,-21.5001\"/>\n",
       "</g>\n",
       "<!-- Distributed -->\n",
       "<g id=\"node4\" class=\"node\">\n",
       "<title>Distributed</title>\n",
       "<ellipse fill=\"none\" stroke=\"#000000\" cx=\"429.7215\" cy=\"-18\" rx=\"50.0912\" ry=\"18\"/>\n",
       "<text text-anchor=\"middle\" x=\"429.7215\" y=\"-14.3\" font-family=\"Times,serif\" font-size=\"14.00\" fill=\"#000000\">Distributed</text>\n",
       "</g>\n",
       "<!-- Parallel&#45;&gt;Distributed -->\n",
       "<g id=\"edge3\" class=\"edge\">\n",
       "<title>Parallel&#45;&gt;Distributed</title>\n",
       "<path fill=\"none\" stroke=\"#000000\" d=\"M343.7784,-18C351.8498,-18 360.5688,-18 369.251,-18\"/>\n",
       "<polygon fill=\"#000000\" stroke=\"#000000\" points=\"369.3852,-21.5001 379.3852,-18 369.3851,-14.5001 369.3852,-21.5001\"/>\n",
       "</g>\n",
       "</g>\n",
       "</svg>\n"
      ],
      "text/plain": [
       "<graphviz.files.Source at 0x7f7263d95898>"
      ]
     },
     "execution_count": 19,
     "metadata": {},
     "output_type": "execute_result"
    }
   ],
   "source": [
    "from graphviz import Source\n",
    "\n",
    "Source('digraph \"Complexity\" { rankdir=LR; Sequential -> Concurrent -> Parallel -> Distributed }')"
   ]
  },
  {
   "cell_type": "markdown",
   "metadata": {
    "slideshow": {
     "slide_type": "fragment"
    }
   },
   "source": [
    "The further we go to the right of the diagram the harder this stuff becomes and the more rigourous the underlying thinking needs to be.  [Ref Lamport Video]\n",
    "\n",
    "### Using juggling as an example:\n",
    "\n",
    "1. A ball being thrown single handedly up and down is **sequential**.  1 process (hand) is executing 1 task (throwing the ball) at a time.\n",
    "\n",
    "2. Two balls being juggled single handedly is **concurrent**.  1 process (hand) is executing 2 task (throwing 2 balls) 'at the same time' by switching between each task.\n",
    "\n",
    "3. Two balls being thrown in the air using both hands is an example of **parallel** execution.  \n",
    "\n",
    "4. Juggling with more than one ball in both hands is an example of both **parallel and concurrent** execution.\n",
    "\n",
    "5. Juggling with more than one person demonstrates **distributed, parallel and concurrent execution**.\n",
    "\n",
    "<HR>"
   ]
  },
  {
   "cell_type": "markdown",
   "metadata": {
    "slideshow": {
     "slide_type": "slide"
    }
   },
   "source": [
    "## What are the options\n",
    "\n",
    "We're really talking about Concurrency Models.  One abstraction is shown below: "
   ]
  },
  {
   "cell_type": "code",
   "execution_count": 20,
   "metadata": {
    "slideshow": {
     "slide_type": "fragment"
    }
   },
   "outputs": [
    {
     "data": {
      "image/svg+xml": [
       "<?xml version=\"1.0\" encoding=\"UTF-8\" standalone=\"no\"?>\n",
       "<!DOCTYPE svg PUBLIC \"-//W3C//DTD SVG 1.1//EN\"\n",
       " \"http://www.w3.org/Graphics/SVG/1.1/DTD/svg11.dtd\">\n",
       "<!-- Generated by graphviz version 2.40.1 (20161225.0304)\n",
       " -->\n",
       "<!-- Title: %3 Pages: 1 -->\n",
       "<svg width=\"514pt\" height=\"116pt\"\n",
       " viewBox=\"0.00 0.00 514.34 116.00\" xmlns=\"http://www.w3.org/2000/svg\" xmlns:xlink=\"http://www.w3.org/1999/xlink\">\n",
       "<g id=\"graph0\" class=\"graph\" transform=\"scale(1 1) rotate(0) translate(4 112)\">\n",
       "<title>%3</title>\n",
       "<polygon fill=\"#ffffff\" stroke=\"transparent\" points=\"-4,4 -4,-112 510.3408,-112 510.3408,4 -4,4\"/>\n",
       "<!-- C -->\n",
       "<g id=\"node1\" class=\"node\">\n",
       "<title>C</title>\n",
       "<ellipse fill=\"none\" stroke=\"#000000\" cx=\"235.0957\" cy=\"-90\" rx=\"55.7903\" ry=\"18\"/>\n",
       "<text text-anchor=\"middle\" x=\"235.0957\" y=\"-86.3\" font-family=\"Times,serif\" font-size=\"14.00\" fill=\"#000000\">Concurrency</text>\n",
       "</g>\n",
       "<!-- S -->\n",
       "<g id=\"node2\" class=\"node\">\n",
       "<title>S</title>\n",
       "<ellipse fill=\"none\" stroke=\"#000000\" cx=\"48.0957\" cy=\"-18\" rx=\"48.1917\" ry=\"18\"/>\n",
       "<text text-anchor=\"middle\" x=\"48.0957\" y=\"-14.3\" font-family=\"Times,serif\" font-size=\"14.00\" fill=\"#000000\">Sequential</text>\n",
       "</g>\n",
       "<!-- C&#45;&gt;S -->\n",
       "<g id=\"edge1\" class=\"edge\">\n",
       "<title>C&#45;&gt;S</title>\n",
       "<path fill=\"none\" stroke=\"#000000\" d=\"M199.0403,-76.1177C168.3579,-64.3042 124.201,-47.3026 91.568,-34.738\"/>\n",
       "<polygon fill=\"#000000\" stroke=\"#000000\" points=\"92.428,-31.3187 81.8382,-30.9918 89.9128,-37.8512 92.428,-31.3187\"/>\n",
       "</g>\n",
       "<!-- D -->\n",
       "<g id=\"node3\" class=\"node\">\n",
       "<title>D</title>\n",
       "<ellipse fill=\"none\" stroke=\"#000000\" cx=\"165.0957\" cy=\"-18\" rx=\"51.1914\" ry=\"18\"/>\n",
       "<text text-anchor=\"middle\" x=\"165.0957\" y=\"-14.3\" font-family=\"Times,serif\" font-size=\"14.00\" fill=\"#000000\">Declarative</text>\n",
       "</g>\n",
       "<!-- C&#45;&gt;D -->\n",
       "<g id=\"edge2\" class=\"edge\">\n",
       "<title>C&#45;&gt;D</title>\n",
       "<path fill=\"none\" stroke=\"#000000\" d=\"M218.1507,-72.5708C209.3805,-63.55 198.5275,-52.387 188.927,-42.5121\"/>\n",
       "<polygon fill=\"#000000\" stroke=\"#000000\" points=\"191.365,-39.9989 181.8847,-35.2687 186.3461,-44.8784 191.365,-39.9989\"/>\n",
       "</g>\n",
       "<!-- M -->\n",
       "<g id=\"node4\" class=\"node\">\n",
       "<title>M</title>\n",
       "<ellipse fill=\"none\" stroke=\"#000000\" cx=\"306.0957\" cy=\"-18\" rx=\"71.4873\" ry=\"18\"/>\n",
       "<text text-anchor=\"middle\" x=\"306.0957\" y=\"-14.3\" font-family=\"Times,serif\" font-size=\"14.00\" fill=\"#000000\">Message Passing</text>\n",
       "</g>\n",
       "<!-- C&#45;&gt;M -->\n",
       "<g id=\"edge3\" class=\"edge\">\n",
       "<title>C&#45;&gt;M</title>\n",
       "<path fill=\"none\" stroke=\"#000000\" d=\"M252.2829,-72.5708C261.1129,-63.6164 272.0246,-52.551 281.7091,-42.7302\"/>\n",
       "<polygon fill=\"#000000\" stroke=\"#000000\" points=\"284.2915,-45.0961 288.8208,-35.5182 279.3072,-40.1811 284.2915,-45.0961\"/>\n",
       "</g>\n",
       "<!-- T -->\n",
       "<g id=\"node5\" class=\"node\">\n",
       "<title>T</title>\n",
       "<ellipse fill=\"none\" stroke=\"#000000\" cx=\"451.0957\" cy=\"-18\" rx=\"55.4913\" ry=\"18\"/>\n",
       "<text text-anchor=\"middle\" x=\"451.0957\" y=\"-14.3\" font-family=\"Times,serif\" font-size=\"14.00\" fill=\"#000000\">Shared State</text>\n",
       "</g>\n",
       "<!-- C&#45;&gt;T -->\n",
       "<g id=\"edge4\" class=\"edge\">\n",
       "<title>C&#45;&gt;T</title>\n",
       "<path fill=\"none\" stroke=\"#000000\" d=\"M274.2117,-76.9613C310.2998,-64.932 363.9993,-47.0321 402.7585,-34.1124\"/>\n",
       "<polygon fill=\"#000000\" stroke=\"#000000\" points=\"403.8907,-37.4244 412.2708,-30.9417 401.6771,-30.7836 403.8907,-37.4244\"/>\n",
       "</g>\n",
       "</g>\n",
       "</svg>\n"
      ],
      "text/plain": [
       "<graphviz.dot.Digraph at 0x7f7263d52b70>"
      ]
     },
     "execution_count": 20,
     "metadata": {},
     "output_type": "execute_result"
    }
   ],
   "source": [
    "from graphviz import Source, Digraph\n",
    "\n",
    "dot = Digraph(comment='Concurrency Models')\n",
    "dot.node('C', 'Concurrency')\n",
    "dot.node('S', 'Sequential')\n",
    "dot.node('D', 'Declarative')\n",
    "dot.node('M', 'Message Passing')\n",
    "dot.node('T', 'Shared State')\n",
    "\n",
    "dot.edges([('C', 'S'), ('C','D'), ('C', 'M'), ('C', 'T')])\n",
    "dot"
   ]
  },
  {
   "cell_type": "markdown",
   "metadata": {
    "slideshow": {
     "slide_type": "fragment"
    }
   },
   "source": [
    "Ref :Van Roy 04\n",
    "\n",
    "<HR>"
   ]
  },
  {
   "cell_type": "markdown",
   "metadata": {
    "slideshow": {
     "slide_type": "slide"
    }
   },
   "source": [
    "## Actors\n",
    "\n",
    "Actors fall within the **Message Passing** approach.\n",
    "\n",
    "The theory was first suggested by Carl Hewitt in the 1970's (https://en.wikipedia.org/wiki/Actor_model).  His work was developed by Gul Agha in the mid 80's (https://en.wikipedia.org/wiki/Gul_Agha_(computer_scientist)) and shortly after this became implemented in Erlang. More recently Erlang has been the inspiration for Akka with implementations on both the JVM (Java / Scala) and CLR (C# / F#).\n",
    "\n",
    "Actors can be viewed broadly as constrained instantiated objects executing in their own process space and can either be stateful or stateless.\n",
    "\n",
    "Each actor has it's own mailbox and isolated internal state.  An actor can talk to the outside world but it can only communicate to other actors by sending immutable messages."
   ]
  },
  {
   "cell_type": "markdown",
   "metadata": {},
   "source": [
    "### What can an actor do \n",
    "\n",
    "1. Send messages to other actors.\n",
    "2. Create / kill other actors.\n",
    "3. Change their own state & internal behaviour\n",
    "4. Communicate with the 'outside world'"
   ]
  },
  {
   "cell_type": "code",
   "execution_count": 14,
   "metadata": {},
   "outputs": [
    {
     "data": {
      "image/svg+xml": [
       "<?xml version=\"1.0\" encoding=\"UTF-8\" standalone=\"no\"?>\n",
       "<!DOCTYPE svg PUBLIC \"-//W3C//DTD SVG 1.1//EN\"\n",
       " \"http://www.w3.org/Graphics/SVG/1.1/DTD/svg11.dtd\">\n",
       "<!-- Generated by graphviz version 2.40.1 (20161225.0304)\n",
       " -->\n",
       "<!-- Title: %3 Pages: 1 -->\n",
       "<svg width=\"176pt\" height=\"188pt\"\n",
       " viewBox=\"0.00 0.00 176.39 188.00\" xmlns=\"http://www.w3.org/2000/svg\" xmlns:xlink=\"http://www.w3.org/1999/xlink\">\n",
       "<g id=\"graph0\" class=\"graph\" transform=\"scale(1 1) rotate(0) translate(4 184)\">\n",
       "<title>%3</title>\n",
       "<polygon fill=\"#ffffff\" stroke=\"transparent\" points=\"-4,4 -4,-184 172.3933,-184 172.3933,4 -4,4\"/>\n",
       "<!-- A1 -->\n",
       "<g id=\"node1\" class=\"node\">\n",
       "<title>A1</title>\n",
       "<ellipse fill=\"none\" stroke=\"#000000\" cx=\"70.6967\" cy=\"-162\" rx=\"37.8943\" ry=\"18\"/>\n",
       "<text text-anchor=\"middle\" x=\"70.6967\" y=\"-158.3\" font-family=\"Times,serif\" font-size=\"14.00\" fill=\"#000000\">Actor 1</text>\n",
       "</g>\n",
       "<!-- A1&#45;&gt;A1 -->\n",
       "<g id=\"edge2\" class=\"edge\">\n",
       "<title>A1&#45;&gt;A1</title>\n",
       "<path fill=\"none\" stroke=\"#000000\" d=\"M97.3439,-174.807C112.4278,-177.3081 126.3933,-173.0391 126.3933,-162 126.3933,-153.5482 118.207,-149.0649 107.6001,-148.5501\"/>\n",
       "<polygon fill=\"#000000\" stroke=\"#000000\" points=\"107.1054,-145.0741 97.3439,-149.193 107.5433,-152.0604 107.1054,-145.0741\"/>\n",
       "</g>\n",
       "<!-- A2 -->\n",
       "<g id=\"node2\" class=\"node\">\n",
       "<title>A2</title>\n",
       "<ellipse fill=\"none\" stroke=\"#000000\" cx=\"103.6967\" cy=\"-90\" rx=\"37.8943\" ry=\"18\"/>\n",
       "<text text-anchor=\"middle\" x=\"103.6967\" y=\"-86.3\" font-family=\"Times,serif\" font-size=\"14.00\" fill=\"#000000\">Actor 2</text>\n",
       "</g>\n",
       "<!-- A1&#45;&gt;A2 -->\n",
       "<g id=\"edge1\" class=\"edge\">\n",
       "<title>A1&#45;&gt;A2</title>\n",
       "<path fill=\"none\" stroke=\"#000000\" d=\"M78.854,-144.2022C82.6504,-135.9192 87.2464,-125.8915 91.4478,-116.7248\"/>\n",
       "<polygon fill=\"#000000\" stroke=\"#000000\" points=\"94.6483,-118.142 95.6332,-107.593 88.2848,-115.2254 94.6483,-118.142\"/>\n",
       "</g>\n",
       "<!-- A3 -->\n",
       "<g id=\"node3\" class=\"node\">\n",
       "<title>A3</title>\n",
       "<ellipse fill=\"none\" stroke=\"#000000\" cx=\"37.6967\" cy=\"-18\" rx=\"37.8943\" ry=\"18\"/>\n",
       "<text text-anchor=\"middle\" x=\"37.6967\" y=\"-14.3\" font-family=\"Times,serif\" font-size=\"14.00\" fill=\"#000000\">Actor 3</text>\n",
       "</g>\n",
       "<!-- A1&#45;&gt;A3 -->\n",
       "<g id=\"edge3\" class=\"edge\">\n",
       "<title>A1&#45;&gt;A3</title>\n",
       "<path fill=\"none\" stroke=\"#000000\" d=\"M65.8241,-144.0509C63.0333,-133.5678 59.5333,-120.0678 56.6967,-108 51.8321,-87.3048 46.8889,-63.7956 43.2643,-45.9954\"/>\n",
       "<polygon fill=\"#000000\" stroke=\"#000000\" points=\"46.6526,-45.0922 41.2418,-35.9832 39.7912,-46.4783 46.6526,-45.0922\"/>\n",
       "</g>\n",
       "<!-- A2&#45;&gt;A3 -->\n",
       "<g id=\"edge4\" class=\"edge\">\n",
       "<title>A2&#45;&gt;A3</title>\n",
       "<path fill=\"none\" stroke=\"#000000\" d=\"M88.389,-73.3008C79.8924,-64.0317 69.1741,-52.339 59.7841,-42.0954\"/>\n",
       "<polygon fill=\"#000000\" stroke=\"#000000\" points=\"62.2586,-39.6152 52.9213,-34.6087 57.0985,-44.3453 62.2586,-39.6152\"/>\n",
       "</g>\n",
       "<!-- A4 -->\n",
       "<g id=\"node4\" class=\"node\">\n",
       "<title>A4</title>\n",
       "<ellipse fill=\"none\" stroke=\"#000000\" cx=\"130.6967\" cy=\"-18\" rx=\"37.8943\" ry=\"18\"/>\n",
       "<text text-anchor=\"middle\" x=\"130.6967\" y=\"-14.3\" font-family=\"Times,serif\" font-size=\"14.00\" fill=\"#000000\">Actor 4</text>\n",
       "</g>\n",
       "<!-- A2&#45;&gt;A4 -->\n",
       "<g id=\"edge5\" class=\"edge\">\n",
       "<title>A2&#45;&gt;A4</title>\n",
       "<path fill=\"none\" stroke=\"#000000\" d=\"M110.3708,-72.2022C113.4213,-64.0675 117.1029,-54.2501 120.4899,-45.2181\"/>\n",
       "<polygon fill=\"#000000\" stroke=\"#000000\" points=\"123.7716,-46.4348 124.0057,-35.8425 117.2172,-43.9769 123.7716,-46.4348\"/>\n",
       "</g>\n",
       "</g>\n",
       "</svg>\n"
      ],
      "text/plain": [
       "<graphviz.dot.Digraph at 0x7f7263e2acf8>"
      ]
     },
     "execution_count": 14,
     "metadata": {},
     "output_type": "execute_result"
    }
   ],
   "source": [
    "from graphviz import Source, Digraph\n",
    "\n",
    "dot = Digraph(comment='Actor Abstraction')\n",
    "dot.node('A1', 'Actor 1')\n",
    "dot.node('A2', 'Actor 2')\n",
    "dot.node('A3', 'Actor 3')\n",
    "dot.node('A4', 'Actor 4')\n",
    "\n",
    "dot.edges([('A1', 'A2'), ('A1', 'A1'), ('A1','A3'), ('A2', 'A3'), ('A2', 'A4')])\n",
    "dot"
   ]
  },
  {
   "cell_type": "markdown",
   "metadata": {},
   "source": [
    "## Additional Actor Framework functionality\n",
    "\n",
    "To support the use of actors to build robust enterprise systems an actor framework will usually provide a varient of the following:\n",
    "\n",
    "1. Supervision framework - each node/actor is monitored with defined failure behaviour.\n",
    "2. Service location / discovery - lookup capability to locate an actor based on id.\n",
    "3. Routing / placement - the ability to specify where an actor should be created (i.e. which node in a cluster)."
   ]
  },
  {
   "cell_type": "markdown",
   "metadata": {
    "slideshow": {
     "slide_type": "slide"
    }
   },
   "source": [
    "### So what !?\n",
    "\n",
    "Although this sounds limited **it enables the sharing of state it removes the need for distributed locks, mutexes etc**. As a side effect they avoid all of the unwanted complex family of bugs associated with them.\n",
    "\n",
    "A positive side effect is that the journey from sequential -> distributed becomes much easier.  In theory with **location transparency** around where and how the code is executed.\n",
    "\n",
    "Improving how we think about concurrency has **significant impacts on cost, efficiency and performance.**\n",
    "\n",
    "The functionality provided by the actor framework can be a quick way of delivering **high availability systems with minimal code.**\n",
    "\n",
    "<HR>"
   ]
  },
  {
   "cell_type": "markdown",
   "metadata": {
    "slideshow": {
     "slide_type": "slide"
    }
   },
   "source": [
    "## Demo\n",
    "\n",
    "#### Highly Concurrent Metronome / Heartbeat Service\n",
    "\n",
    "This is an example scala / Akka service that creates an arbitrary number of actors to *keep time*.  Each of these actors have been called $Fixtures$ in the example to avoid naming confusion.\n",
    "\n",
    "Three variables can be passed into the actor system on execution - the number of actors ($n$), a tick interval ($t_1$) and a tock interval ($t_2$).  The actor system creates $n$ actors on startup.\n",
    "\n",
    "Each actor will send itself a tick message after $t_1$ and a tock message after $t_2$ and print a message to the system terminal on receipt of each message.\n",
    "\n",
    "Logging to the terminal is an arbitrary piece of code, it could be replaced with code to call external API's, pull from message queues, carry out sampling or debouncing etc."
   ]
  },
  {
   "cell_type": "code",
   "execution_count": 18,
   "metadata": {},
   "outputs": [
    {
     "data": {
      "image/svg+xml": [
       "<?xml version=\"1.0\" encoding=\"UTF-8\" standalone=\"no\"?>\n",
       "<!DOCTYPE svg PUBLIC \"-//W3C//DTD SVG 1.1//EN\"\n",
       " \"http://www.w3.org/Graphics/SVG/1.1/DTD/svg11.dtd\">\n",
       "<!-- Generated by graphviz version 2.40.1 (20161225.0304)\n",
       " -->\n",
       "<!-- Title: %3 Pages: 1 -->\n",
       "<svg width=\"478pt\" height=\"188pt\"\n",
       " viewBox=\"0.00 0.00 477.64 188.00\" xmlns=\"http://www.w3.org/2000/svg\" xmlns:xlink=\"http://www.w3.org/1999/xlink\">\n",
       "<g id=\"graph0\" class=\"graph\" transform=\"scale(1 1) rotate(0) translate(4 184)\">\n",
       "<title>%3</title>\n",
       "<polygon fill=\"#ffffff\" stroke=\"transparent\" points=\"-4,4 -4,-184 473.6442,-184 473.6442,4 -4,4\"/>\n",
       "<!-- DebouncerService -->\n",
       "<g id=\"node1\" class=\"node\">\n",
       "<title>DebouncerService</title>\n",
       "<ellipse fill=\"#d3d3d3\" stroke=\"#000000\" cx=\"231.1972\" cy=\"-162\" rx=\"75.2868\" ry=\"18\"/>\n",
       "<text text-anchor=\"middle\" x=\"231.1972\" y=\"-158.3\" font-family=\"Times,serif\" font-size=\"14.00\" fill=\"#000000\">DebouncerService</text>\n",
       "</g>\n",
       "<!-- DebounceSupervisor -->\n",
       "<g id=\"node2\" class=\"node\">\n",
       "<title>DebounceSupervisor</title>\n",
       "<ellipse fill=\"none\" stroke=\"#000000\" cx=\"231.1972\" cy=\"-90\" rx=\"84.485\" ry=\"18\"/>\n",
       "<text text-anchor=\"middle\" x=\"231.1972\" y=\"-86.3\" font-family=\"Times,serif\" font-size=\"14.00\" fill=\"#000000\">DebounceSupervisor</text>\n",
       "</g>\n",
       "<!-- DebouncerService&#45;&gt;DebounceSupervisor -->\n",
       "<g id=\"edge1\" class=\"edge\">\n",
       "<title>DebouncerService&#45;&gt;DebounceSupervisor</title>\n",
       "<path fill=\"none\" stroke=\"#000000\" d=\"M231.1972,-143.8314C231.1972,-136.131 231.1972,-126.9743 231.1972,-118.4166\"/>\n",
       "<polygon fill=\"#000000\" stroke=\"#000000\" points=\"234.6973,-118.4132 231.1972,-108.4133 227.6973,-118.4133 234.6973,-118.4132\"/>\n",
       "</g>\n",
       "<!-- Fix_0 -->\n",
       "<g id=\"node3\" class=\"node\">\n",
       "<title>Fix_0</title>\n",
       "<ellipse fill=\"none\" stroke=\"#000000\" cx=\"31.1972\" cy=\"-18\" rx=\"31.3957\" ry=\"18\"/>\n",
       "<text text-anchor=\"middle\" x=\"31.1972\" y=\"-14.3\" font-family=\"Times,serif\" font-size=\"14.00\" fill=\"#000000\">Fix_0</text>\n",
       "</g>\n",
       "<!-- DebounceSupervisor&#45;&gt;Fix_0 -->\n",
       "<g id=\"edge2\" class=\"edge\">\n",
       "<title>DebounceSupervisor&#45;&gt;Fix_0</title>\n",
       "<path fill=\"none\" stroke=\"#000000\" d=\"M183.1513,-75.1343C151.1466,-64.9026 108.3098,-50.5732 71.1972,-36 69.1239,-35.1859 67.0022,-34.3228 64.8702,-33.4326\"/>\n",
       "<polygon fill=\"#000000\" stroke=\"#000000\" points=\"66.1438,-30.1703 55.5753,-29.4236 63.3714,-36.5979 66.1438,-30.1703\"/>\n",
       "</g>\n",
       "<!-- Fix_1 -->\n",
       "<g id=\"node4\" class=\"node\">\n",
       "<title>Fix_1</title>\n",
       "<ellipse fill=\"none\" stroke=\"#000000\" cx=\"111.1972\" cy=\"-18\" rx=\"31.3957\" ry=\"18\"/>\n",
       "<text text-anchor=\"middle\" x=\"111.1972\" y=\"-14.3\" font-family=\"Times,serif\" font-size=\"14.00\" fill=\"#000000\">Fix_1</text>\n",
       "</g>\n",
       "<!-- DebounceSupervisor&#45;&gt;Fix_1 -->\n",
       "<g id=\"edge3\" class=\"edge\">\n",
       "<title>DebounceSupervisor&#45;&gt;Fix_1</title>\n",
       "<path fill=\"none\" stroke=\"#000000\" d=\"M202.7589,-72.937C184.414,-61.9301 160.5661,-47.6214 141.8078,-36.3664\"/>\n",
       "<polygon fill=\"#000000\" stroke=\"#000000\" points=\"143.4302,-33.2581 133.0545,-31.1144 139.8287,-39.2606 143.4302,-33.2581\"/>\n",
       "</g>\n",
       "<!-- Fix_2 -->\n",
       "<g id=\"node5\" class=\"node\">\n",
       "<title>Fix_2</title>\n",
       "<ellipse fill=\"none\" stroke=\"#000000\" cx=\"191.1972\" cy=\"-18\" rx=\"31.3957\" ry=\"18\"/>\n",
       "<text text-anchor=\"middle\" x=\"191.1972\" y=\"-14.3\" font-family=\"Times,serif\" font-size=\"14.00\" fill=\"#000000\">Fix_2</text>\n",
       "</g>\n",
       "<!-- DebounceSupervisor&#45;&gt;Fix_2 -->\n",
       "<g id=\"edge4\" class=\"edge\">\n",
       "<title>DebounceSupervisor&#45;&gt;Fix_2</title>\n",
       "<path fill=\"none\" stroke=\"#000000\" d=\"M221.1035,-71.8314C216.4516,-63.4579 210.8431,-53.3626 205.746,-44.1878\"/>\n",
       "<polygon fill=\"#000000\" stroke=\"#000000\" points=\"208.7898,-42.4595 200.8737,-35.4177 202.6707,-45.8591 208.7898,-42.4595\"/>\n",
       "</g>\n",
       "<!-- Fix_3 -->\n",
       "<g id=\"node6\" class=\"node\">\n",
       "<title>Fix_3</title>\n",
       "<ellipse fill=\"none\" stroke=\"#000000\" cx=\"271.1972\" cy=\"-18\" rx=\"31.3957\" ry=\"18\"/>\n",
       "<text text-anchor=\"middle\" x=\"271.1972\" y=\"-14.3\" font-family=\"Times,serif\" font-size=\"14.00\" fill=\"#000000\">Fix_3</text>\n",
       "</g>\n",
       "<!-- DebounceSupervisor&#45;&gt;Fix_3 -->\n",
       "<g id=\"edge5\" class=\"edge\">\n",
       "<title>DebounceSupervisor&#45;&gt;Fix_3</title>\n",
       "<path fill=\"none\" stroke=\"#000000\" d=\"M241.2909,-71.8314C245.9428,-63.4579 251.5514,-53.3626 256.6485,-44.1878\"/>\n",
       "<polygon fill=\"#000000\" stroke=\"#000000\" points=\"259.7238,-45.8591 261.5207,-35.4177 253.6047,-42.4595 259.7238,-45.8591\"/>\n",
       "</g>\n",
       "<!-- Fix_4 -->\n",
       "<g id=\"node7\" class=\"node\">\n",
       "<title>Fix_4</title>\n",
       "<ellipse fill=\"none\" stroke=\"#000000\" cx=\"351.1972\" cy=\"-18\" rx=\"31.3957\" ry=\"18\"/>\n",
       "<text text-anchor=\"middle\" x=\"351.1972\" y=\"-14.3\" font-family=\"Times,serif\" font-size=\"14.00\" fill=\"#000000\">Fix_4</text>\n",
       "</g>\n",
       "<!-- DebounceSupervisor&#45;&gt;Fix_4 -->\n",
       "<g id=\"edge6\" class=\"edge\">\n",
       "<title>DebounceSupervisor&#45;&gt;Fix_4</title>\n",
       "<path fill=\"none\" stroke=\"#000000\" d=\"M259.6356,-72.937C277.9805,-61.9301 301.8283,-47.6214 320.5866,-36.3664\"/>\n",
       "<polygon fill=\"#000000\" stroke=\"#000000\" points=\"322.5658,-39.2606 329.34,-31.1144 318.9643,-33.2581 322.5658,-39.2606\"/>\n",
       "</g>\n",
       "<!-- Fix_... -->\n",
       "<g id=\"node8\" class=\"node\">\n",
       "<title>Fix_...</title>\n",
       "<ellipse fill=\"none\" stroke=\"#000000\" cx=\"435.1972\" cy=\"-18\" rx=\"34.394\" ry=\"18\"/>\n",
       "<text text-anchor=\"middle\" x=\"435.1972\" y=\"-14.3\" font-family=\"Times,serif\" font-size=\"14.00\" fill=\"#000000\">Fix_...</text>\n",
       "</g>\n",
       "<!-- DebounceSupervisor&#45;&gt;Fix_... -->\n",
       "<g id=\"edge7\" class=\"edge\">\n",
       "<title>DebounceSupervisor&#45;&gt;Fix_...</title>\n",
       "<path fill=\"none\" stroke=\"#000000\" d=\"M278.3782,-74.9394C310.3872,-64.5111 353.5638,-50.0326 391.1972,-36 393.7202,-35.0592 396.3147,-34.0659 398.9216,-33.0487\"/>\n",
       "<polygon fill=\"#000000\" stroke=\"#000000\" points=\"400.3134,-36.2619 408.3101,-29.3118 397.7247,-29.7581 400.3134,-36.2619\"/>\n",
       "</g>\n",
       "</g>\n",
       "</svg>\n"
      ],
      "text/plain": [
       "<graphviz.dot.Digraph at 0x7f7263d52ef0>"
      ]
     },
     "execution_count": 18,
     "metadata": {},
     "output_type": "execute_result"
    }
   ],
   "source": [
    "from graphviz import Digraph\n",
    "\n",
    "dot = Digraph(comment='Debouncing Service')\n",
    "\n",
    "dot.node('DebouncerService', style='filled')\n",
    "dot.node('DebounceSupervisor')\n",
    "dot.edge('DebouncerService', 'DebounceSupervisor')\n",
    "for i in range(5):\n",
    "    dot.node(\"Fix_{}\".format(i))\n",
    "    dot.edge('DebounceSupervisor', \"Fix_{}\".format(i))\n",
    "\n",
    "dot.node(\"Fix_...\".format(i))\n",
    "dot.edge('DebounceSupervisor', \"Fix_...\".format(i))\n",
    "dot"
   ]
  },
  {
   "cell_type": "markdown",
   "metadata": {},
   "source": [
    "### Service\n",
    "```scala\n",
    "import akka.actor.{ActorRef, ActorSystem, Props}\n",
    "import com.typesafe.config.{Config, ConfigFactory}\n",
    "\n",
    "object DebouncerService {\n",
    "  import Messages._\n",
    "\n",
    "  private var system: Option[ActorSystem] = None\n",
    "\n",
    "  def main(args: Array[String]) = {\n",
    "    val config: Config = ConfigFactory.load()\n",
    "    val numfixtures: Int = config.getInt(\"app.num_fixtures\")\n",
    "    val tickSize: Int = config.getInt(\"app.tick_size\")\n",
    "    val tockSize: Int = config.getInt(\"app.tock_size\")\n",
    "\n",
    "    val system  = ActorSystem(\"DebouncerService\")\n",
    "    val debounceSupervisorRef: ActorRef = system.actorOf(Props[DebounceSupervisor], \"DebounceSupervisor\")\n",
    "\n",
    "    for (a <- 1 to numfixtures) {\n",
    "      var actorName = s\"Fixture-${a}\"\n",
    "      debounceSupervisorRef ! AddFixture(actorName, tickSize, tockSize)\n",
    "    }\n",
    "  }\n",
    "}```"
   ]
  },
  {
   "cell_type": "code",
   "execution_count": null,
   "metadata": {},
   "outputs": [],
   "source": []
  },
  {
   "cell_type": "markdown",
   "metadata": {},
   "source": [
    "### Supervisor\n",
    "```scala\n",
    "import akka.actor.{Actor, ActorSystem, Props}\n",
    "import Messages._\n",
    "\n",
    "class DebounceSupervisor extends Actor{\n",
    "\n",
    "  val system  = ActorSystem(\"DebouncerService\")\n",
    "\n",
    "  def receive = {\n",
    "    case AddFixture(key, tickSize, tockSize) => {\n",
    "      system.actorOf(Props(new FixtureDebouncer(tickSize, tockSize)), name=key)\n",
    "    }\n",
    "  }\n",
    "}\n",
    "```"
   ]
  },
  {
   "cell_type": "markdown",
   "metadata": {},
   "source": [
    "### Fixture Debouncer\n",
    "\n",
    "```scala\n",
    "import akka.actor.FSM\n",
    "import scala.concurrent.duration._\n",
    "\n",
    "sealed trait State\n",
    "case object Active extends State\n",
    "\n",
    "sealed trait Data\n",
    "case class SData(intCount: Int) extends Data\n",
    "\n",
    "class FixtureDebouncer(tick_size: Int, tock_size: Int) extends FSM[State, Data] {\n",
    "\n",
    "  startWith (Active, SData(0))\n",
    "\n",
    "  when (Active, stateTimeout = tick_size second) {\n",
    "    case Event(StateTimeout, SData(i)) =>\n",
    "      if (i > 0) {\n",
    "        log.info(s\"${self.path.name}: Tick ${i}\")\n",
    "        goto(Active) using SData(i-tick_size)\n",
    "      }\n",
    "      else {\n",
    "        log.info(s\"${self.path.name}: Tock ${i}\")\n",
    "        goto(Active) using SData(tock_size)\n",
    "      }\n",
    "  }\n",
    "\n",
    "  initialize()\n",
    "}\n",
    "```"
   ]
  },
  {
   "cell_type": "markdown",
   "metadata": {},
   "source": [
    "### Execution\n",
    "```bash\n",
    "sbt -Dapp.num_fixtures=1000 -Dapp.tock_size=10 -Dapp.tick_size=1 -Dakka.loglevel=info run\n",
    "```"
   ]
  },
  {
   "cell_type": "code",
   "execution_count": null,
   "metadata": {},
   "outputs": [],
   "source": []
  }
 ],
 "metadata": {
  "hide_input": true,
  "kernelspec": {
   "display_name": "Python 3",
   "language": "python",
   "name": "python3"
  },
  "language_info": {
   "codemirror_mode": {
    "name": "ipython",
    "version": 3
   },
   "file_extension": ".py",
   "mimetype": "text/x-python",
   "name": "python",
   "nbconvert_exporter": "python",
   "pygments_lexer": "ipython3",
   "version": "3.7.1"
  }
 },
 "nbformat": 4,
 "nbformat_minor": 2
}
